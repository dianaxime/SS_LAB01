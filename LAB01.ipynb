{
 "cells": [
  {
   "cell_type": "markdown",
   "id": "1277f068-ffda-4623-af3e-b1f0ae1e98a4",
   "metadata": {},
   "source": [
    "## LAB01 Detección de pishing"
   ]
  },
  {
   "cell_type": "markdown",
   "id": "86e555fa-c1b6-4c33-a034-37bb186df456",
   "metadata": {},
   "source": [
    "#### Paula Camila Gonzalez Ortega, 18398\n",
    "#### Diana Ximena de León Figueroa, 18607"
   ]
  },
  {
   "cell_type": "code",
   "execution_count": 1,
   "id": "8dd3466b-3445-4888-9625-5fabf98cfc5e",
   "metadata": {},
   "outputs": [],
   "source": [
    "import pandas as pd\n",
    "import numpy as np\n",
    "import  re\n",
    "import  matplotlib.pyplot as plt\n",
    "import seaborn as sns\n",
    "from urllib.parse import urlparse, urlencode\n",
    "# import pandas_profiling as pp\n",
    "# from pandas_profiling import ProfileReport\n",
    "# import sklearn\n",
    "# from sklearn import metrics, model_selection, tree"
   ]
  },
  {
   "cell_type": "code",
   "execution_count": 2,
   "id": "99b6ada4-cff7-46f8-8c3b-338b51007270",
   "metadata": {},
   "outputs": [],
   "source": [
    "## Caracteristicas derivadas\n",
    "\n",
    "def H_entropy (x):\n",
    "    # Entropia de Shannon\n",
    "    prob = [ float(x.count(c)) / len(x) for c in dict.fromkeys(list(x)) ] \n",
    "    H = - sum([ p * np.log2(p) for p in prob ]) \n",
    "    return H\n",
    "\n",
    "def posicionPrimerDigito( s ):\n",
    "    for i, c in enumerate(s):\n",
    "        if c.isdigit():\n",
    "            return i + 1\n",
    "    return 0\n",
    "\n",
    "def proporcionVocalesConsonantes (x):\n",
    "    x = x.lower()\n",
    "    patron_vocales = re.compile('([aeiou])')\n",
    "    patron_consonantes = re.compile('([b-df-hj-np-tv-z])')\n",
    "    vocales = re.findall(patron_vocales, x)\n",
    "    consonantes = re.findall(patron_consonantes, x)\n",
    "    try:\n",
    "        proporcion = len(vocales) / len(consonantes)\n",
    "    except: # Division por cero\n",
    "        proporcion = 0  \n",
    "    return proporcion"
   ]
  },
  {
   "cell_type": "markdown",
   "id": "b0467177-96ef-48c0-8741-0297af98e462",
   "metadata": {},
   "source": [
    "### Exploración de datos"
   ]
  },
  {
   "cell_type": "code",
   "execution_count": 3,
   "id": "89830cf5-e988-4dc9-93e9-edc2ccbd3898",
   "metadata": {},
   "outputs": [],
   "source": [
    "df = pd.read_csv('dataset_pishing.csv')"
   ]
  },
  {
   "cell_type": "code",
   "execution_count": 4,
   "id": "9b58b8a9-31c6-4e39-b4ac-8ebba50f95da",
   "metadata": {},
   "outputs": [
    {
     "data": {
      "text/html": [
       "<div>\n",
       "<style scoped>\n",
       "    .dataframe tbody tr th:only-of-type {\n",
       "        vertical-align: middle;\n",
       "    }\n",
       "\n",
       "    .dataframe tbody tr th {\n",
       "        vertical-align: top;\n",
       "    }\n",
       "\n",
       "    .dataframe thead th {\n",
       "        text-align: right;\n",
       "    }\n",
       "</style>\n",
       "<table border=\"1\" class=\"dataframe\">\n",
       "  <thead>\n",
       "    <tr style=\"text-align: right;\">\n",
       "      <th></th>\n",
       "      <th>url</th>\n",
       "      <th>ip</th>\n",
       "      <th>nb_www</th>\n",
       "      <th>nb_com</th>\n",
       "      <th>nb_dslash</th>\n",
       "      <th>http_in_path</th>\n",
       "      <th>punycode</th>\n",
       "      <th>port</th>\n",
       "      <th>tld_in_path</th>\n",
       "      <th>tld_in_subdomain</th>\n",
       "      <th>...</th>\n",
       "      <th>domain_in_title</th>\n",
       "      <th>domain_with_copyright</th>\n",
       "      <th>whois_registered_domain</th>\n",
       "      <th>domain_registration_length</th>\n",
       "      <th>domain_age</th>\n",
       "      <th>web_traffic</th>\n",
       "      <th>dns_record</th>\n",
       "      <th>google_index</th>\n",
       "      <th>page_rank</th>\n",
       "      <th>status</th>\n",
       "    </tr>\n",
       "  </thead>\n",
       "  <tbody>\n",
       "    <tr>\n",
       "      <th>0</th>\n",
       "      <td>http://www.crestonwood.com/router.php</td>\n",
       "      <td>0</td>\n",
       "      <td>1</td>\n",
       "      <td>0</td>\n",
       "      <td>0</td>\n",
       "      <td>0</td>\n",
       "      <td>0</td>\n",
       "      <td>0</td>\n",
       "      <td>0</td>\n",
       "      <td>0</td>\n",
       "      <td>...</td>\n",
       "      <td>0</td>\n",
       "      <td>1</td>\n",
       "      <td>0</td>\n",
       "      <td>45</td>\n",
       "      <td>-1</td>\n",
       "      <td>0</td>\n",
       "      <td>1</td>\n",
       "      <td>1</td>\n",
       "      <td>4</td>\n",
       "      <td>legitimate</td>\n",
       "    </tr>\n",
       "    <tr>\n",
       "      <th>1</th>\n",
       "      <td>http://shadetreetechnology.com/V4/validation/a...</td>\n",
       "      <td>1</td>\n",
       "      <td>0</td>\n",
       "      <td>0</td>\n",
       "      <td>0</td>\n",
       "      <td>0</td>\n",
       "      <td>0</td>\n",
       "      <td>0</td>\n",
       "      <td>0</td>\n",
       "      <td>0</td>\n",
       "      <td>...</td>\n",
       "      <td>1</td>\n",
       "      <td>0</td>\n",
       "      <td>0</td>\n",
       "      <td>77</td>\n",
       "      <td>5767</td>\n",
       "      <td>0</td>\n",
       "      <td>0</td>\n",
       "      <td>1</td>\n",
       "      <td>2</td>\n",
       "      <td>phishing</td>\n",
       "    </tr>\n",
       "    <tr>\n",
       "      <th>2</th>\n",
       "      <td>https://support-appleld.com.secureupdate.duila...</td>\n",
       "      <td>1</td>\n",
       "      <td>0</td>\n",
       "      <td>1</td>\n",
       "      <td>0</td>\n",
       "      <td>0</td>\n",
       "      <td>0</td>\n",
       "      <td>0</td>\n",
       "      <td>0</td>\n",
       "      <td>1</td>\n",
       "      <td>...</td>\n",
       "      <td>1</td>\n",
       "      <td>0</td>\n",
       "      <td>0</td>\n",
       "      <td>14</td>\n",
       "      <td>4004</td>\n",
       "      <td>5828815</td>\n",
       "      <td>0</td>\n",
       "      <td>1</td>\n",
       "      <td>0</td>\n",
       "      <td>phishing</td>\n",
       "    </tr>\n",
       "    <tr>\n",
       "      <th>3</th>\n",
       "      <td>http://rgipt.ac.in</td>\n",
       "      <td>0</td>\n",
       "      <td>0</td>\n",
       "      <td>0</td>\n",
       "      <td>0</td>\n",
       "      <td>0</td>\n",
       "      <td>0</td>\n",
       "      <td>0</td>\n",
       "      <td>0</td>\n",
       "      <td>0</td>\n",
       "      <td>...</td>\n",
       "      <td>1</td>\n",
       "      <td>0</td>\n",
       "      <td>0</td>\n",
       "      <td>62</td>\n",
       "      <td>-1</td>\n",
       "      <td>107721</td>\n",
       "      <td>0</td>\n",
       "      <td>0</td>\n",
       "      <td>3</td>\n",
       "      <td>legitimate</td>\n",
       "    </tr>\n",
       "    <tr>\n",
       "      <th>4</th>\n",
       "      <td>http://www.iracing.com/tracks/gateway-motorspo...</td>\n",
       "      <td>0</td>\n",
       "      <td>1</td>\n",
       "      <td>0</td>\n",
       "      <td>0</td>\n",
       "      <td>0</td>\n",
       "      <td>0</td>\n",
       "      <td>0</td>\n",
       "      <td>0</td>\n",
       "      <td>0</td>\n",
       "      <td>...</td>\n",
       "      <td>0</td>\n",
       "      <td>1</td>\n",
       "      <td>0</td>\n",
       "      <td>224</td>\n",
       "      <td>8175</td>\n",
       "      <td>8725</td>\n",
       "      <td>0</td>\n",
       "      <td>0</td>\n",
       "      <td>6</td>\n",
       "      <td>legitimate</td>\n",
       "    </tr>\n",
       "  </tbody>\n",
       "</table>\n",
       "<p>5 rows × 67 columns</p>\n",
       "</div>"
      ],
      "text/plain": [
       "                                                 url  ip  nb_www  nb_com  \\\n",
       "0              http://www.crestonwood.com/router.php   0       1       0   \n",
       "1  http://shadetreetechnology.com/V4/validation/a...   1       0       0   \n",
       "2  https://support-appleld.com.secureupdate.duila...   1       0       1   \n",
       "3                                 http://rgipt.ac.in   0       0       0   \n",
       "4  http://www.iracing.com/tracks/gateway-motorspo...   0       1       0   \n",
       "\n",
       "   nb_dslash  http_in_path  punycode  port  tld_in_path  tld_in_subdomain  \\\n",
       "0          0             0         0     0            0                 0   \n",
       "1          0             0         0     0            0                 0   \n",
       "2          0             0         0     0            0                 1   \n",
       "3          0             0         0     0            0                 0   \n",
       "4          0             0         0     0            0                 0   \n",
       "\n",
       "   ...  domain_in_title  domain_with_copyright  whois_registered_domain  \\\n",
       "0  ...                0                      1                        0   \n",
       "1  ...                1                      0                        0   \n",
       "2  ...                1                      0                        0   \n",
       "3  ...                1                      0                        0   \n",
       "4  ...                0                      1                        0   \n",
       "\n",
       "   domain_registration_length  domain_age  web_traffic  dns_record  \\\n",
       "0                          45          -1            0           1   \n",
       "1                          77        5767            0           0   \n",
       "2                          14        4004      5828815           0   \n",
       "3                          62          -1       107721           0   \n",
       "4                         224        8175         8725           0   \n",
       "\n",
       "   google_index  page_rank      status  \n",
       "0             1          4  legitimate  \n",
       "1             1          2    phishing  \n",
       "2             1          0    phishing  \n",
       "3             0          3  legitimate  \n",
       "4             0          6  legitimate  \n",
       "\n",
       "[5 rows x 67 columns]"
      ]
     },
     "execution_count": 4,
     "metadata": {},
     "output_type": "execute_result"
    }
   ],
   "source": [
    "df.head()"
   ]
  },
  {
   "cell_type": "code",
   "execution_count": 5,
   "id": "c58edb76-df83-499d-8005-dc2b86ed870c",
   "metadata": {},
   "outputs": [
    {
     "name": "stdout",
     "output_type": "stream",
     "text": [
      "<class 'pandas.core.frame.DataFrame'>\n",
      "RangeIndex: 11430 entries, 0 to 11429\n",
      "Data columns (total 67 columns):\n",
      " #   Column                      Non-Null Count  Dtype  \n",
      "---  ------                      --------------  -----  \n",
      " 0   url                         11430 non-null  object \n",
      " 1   ip                          11430 non-null  int64  \n",
      " 2   nb_www                      11430 non-null  int64  \n",
      " 3   nb_com                      11430 non-null  int64  \n",
      " 4   nb_dslash                   11430 non-null  int64  \n",
      " 5   http_in_path                11430 non-null  int64  \n",
      " 6   punycode                    11430 non-null  int64  \n",
      " 7   port                        11430 non-null  int64  \n",
      " 8   tld_in_path                 11430 non-null  int64  \n",
      " 9   tld_in_subdomain            11430 non-null  int64  \n",
      " 10  abnormal_subdomain          11430 non-null  int64  \n",
      " 11  nb_subdomains               11430 non-null  int64  \n",
      " 12  prefix_suffix               11430 non-null  int64  \n",
      " 13  random_domain               11430 non-null  int64  \n",
      " 14  shortening_service          11430 non-null  int64  \n",
      " 15  path_extension              11430 non-null  int64  \n",
      " 16  nb_redirection              11430 non-null  int64  \n",
      " 17  nb_external_redirection     11430 non-null  int64  \n",
      " 18  length_words_raw            11430 non-null  int64  \n",
      " 19  char_repeat                 11430 non-null  int64  \n",
      " 20  shortest_words_raw          11430 non-null  int64  \n",
      " 21  shortest_word_host          11430 non-null  int64  \n",
      " 22  shortest_word_path          11430 non-null  int64  \n",
      " 23  longest_words_raw           11430 non-null  int64  \n",
      " 24  longest_word_host           11430 non-null  int64  \n",
      " 25  longest_word_path           11430 non-null  int64  \n",
      " 26  avg_words_raw               11430 non-null  float64\n",
      " 27  avg_word_host               11430 non-null  float64\n",
      " 28  avg_word_path               11430 non-null  float64\n",
      " 29  phish_hints                 11430 non-null  int64  \n",
      " 30  domain_in_brand             11430 non-null  int64  \n",
      " 31  brand_in_subdomain          11430 non-null  int64  \n",
      " 32  brand_in_path               11430 non-null  int64  \n",
      " 33  suspecious_tld              11430 non-null  int64  \n",
      " 34  statistical_report          11430 non-null  int64  \n",
      " 35  nb_hyperlinks               11430 non-null  int64  \n",
      " 36  ratio_intHyperlinks         11430 non-null  float64\n",
      " 37  ratio_extHyperlinks         11430 non-null  float64\n",
      " 38  ratio_nullHyperlinks        11430 non-null  int64  \n",
      " 39  nb_extCSS                   11430 non-null  int64  \n",
      " 40  ratio_intRedirection        11430 non-null  int64  \n",
      " 41  ratio_extRedirection        11430 non-null  float64\n",
      " 42  ratio_intErrors             11430 non-null  int64  \n",
      " 43  ratio_extErrors             11430 non-null  float64\n",
      " 44  login_form                  11430 non-null  int64  \n",
      " 45  external_favicon            11430 non-null  int64  \n",
      " 46  links_in_tags               11430 non-null  float64\n",
      " 47  submit_email                11430 non-null  int64  \n",
      " 48  ratio_intMedia              11430 non-null  float64\n",
      " 49  ratio_extMedia              11430 non-null  float64\n",
      " 50  sfh                         11430 non-null  int64  \n",
      " 51  iframe                      11430 non-null  int64  \n",
      " 52  popup_window                11430 non-null  int64  \n",
      " 53  safe_anchor                 11430 non-null  float64\n",
      " 54  onmouseover                 11430 non-null  int64  \n",
      " 55  right_clic                  11430 non-null  int64  \n",
      " 56  empty_title                 11430 non-null  int64  \n",
      " 57  domain_in_title             11430 non-null  int64  \n",
      " 58  domain_with_copyright       11430 non-null  int64  \n",
      " 59  whois_registered_domain     11430 non-null  int64  \n",
      " 60  domain_registration_length  11430 non-null  int64  \n",
      " 61  domain_age                  11430 non-null  int64  \n",
      " 62  web_traffic                 11430 non-null  int64  \n",
      " 63  dns_record                  11430 non-null  int64  \n",
      " 64  google_index                11430 non-null  int64  \n",
      " 65  page_rank                   11430 non-null  int64  \n",
      " 66  status                      11430 non-null  object \n",
      "dtypes: float64(11), int64(54), object(2)\n",
      "memory usage: 5.8+ MB\n"
     ]
    }
   ],
   "source": [
    "df.info()"
   ]
  },
  {
   "cell_type": "markdown",
   "id": "a3d53e81-f510-4458-ba3d-baae3db9676f",
   "metadata": {},
   "source": [
    "##### Muestre la cantidad de observaciones etiquetadas en la columna status como “legit” y como “pishing”. ¿Está balanceado el dataset?"
   ]
  },
  {
   "cell_type": "markdown",
   "id": "e36876e6-422a-43e5-ab79-03081b8f0ab5",
   "metadata": {},
   "source": [
    "Esta balanceado"
   ]
  },
  {
   "cell_type": "code",
   "execution_count": 6,
   "id": "04cd3c50-dc06-4553-aa92-020d4f7a6288",
   "metadata": {},
   "outputs": [
    {
     "data": {
      "text/plain": [
       "legitimate    5715\n",
       "phishing      5715\n",
       "Name: status, dtype: int64"
      ]
     },
     "execution_count": 6,
     "metadata": {},
     "output_type": "execute_result"
    }
   ],
   "source": [
    "df['status'].value_counts() "
   ]
  },
  {
   "cell_type": "markdown",
   "id": "fa711188-78e4-4c00-90e9-504443533021",
   "metadata": {},
   "source": [
    "### Derivación de las características"
   ]
  },
  {
   "cell_type": "code",
   "execution_count": 7,
   "id": "fb3c72a3-9f65-4f78-b3c2-3b63d98d35d5",
   "metadata": {},
   "outputs": [],
   "source": [
    "def getDomain(url):\n",
    "    return urlparse(url).netloc\n",
    "    \n",
    "def getProtocol(url):\n",
    "    return 1 if urlparse(url).scheme == 'https' else 0\n",
    "    \n",
    "def getSpecialCharacters(url):\n",
    "    count_characters = 0\n",
    "    count_characters += url.count('.')\n",
    "    count_characters += url.count('-')\n",
    "    count_characters += url.count('@')\n",
    "    count_characters += url.count('?')\n",
    "    count_characters += url.count('&')\n",
    "    count_characters += url.count('|')\n",
    "    count_characters += url.count('=')\n",
    "    count_characters += url.count('_')\n",
    "    count_characters += url.count('~')\n",
    "    count_characters += url.count('%')\n",
    "    count_characters += url.count('/')\n",
    "    count_characters += url.count('*')\n",
    "    count_characters += url.count(':')\n",
    "    count_characters += url.count(',')\n",
    "    count_characters += url.count(';')\n",
    "    count_characters += url.count('$')\n",
    "    count_characters += url.count('%20')\n",
    "    count_characters += url.count(' ')\n",
    "    return count_characters"
   ]
  },
  {
   "cell_type": "code",
   "execution_count": 8,
   "id": "364db787-1cfa-4612-b031-68e527ab5a45",
   "metadata": {},
   "outputs": [],
   "source": [
    "df['longitud_url'] = df['url'].str.len()\n",
    "df['longitud_hostname'] = df['url'].apply(getDomain).str.len()\n",
    "df['special_characters'] = df['url'].apply(getSpecialCharacters)\n",
    "df['is_https'] = df['url'].apply(getProtocol)\n",
    "df['ratio_digits_url'] = df['url'].str.count('[0-9]') / df['url'].str.len()\n",
    "df['ratio_digits_domain'] = df['url'].apply(getDomain).str.count('[0-9]') / df['url'].apply(getDomain).str.len()"
   ]
  },
  {
   "cell_type": "code",
   "execution_count": 9,
   "id": "a6c70e20-04d9-4bee-8774-f21ca2c89cb4",
   "metadata": {},
   "outputs": [
    {
     "data": {
      "text/plain": [
       "0         37\n",
       "1         77\n",
       "2        126\n",
       "3         18\n",
       "4         55\n",
       "        ... \n",
       "11425     45\n",
       "11426     84\n",
       "11427    105\n",
       "11428     38\n",
       "11429    477\n",
       "Name: longitud_url, Length: 11430, dtype: int64"
      ]
     },
     "execution_count": 9,
     "metadata": {},
     "output_type": "execute_result"
    }
   ],
   "source": [
    "df['longitud_url']"
   ]
  },
  {
   "cell_type": "code",
   "execution_count": 10,
   "id": "9f26b64e-49e7-4e00-9d74-d24086ff1638",
   "metadata": {},
   "outputs": [
    {
     "data": {
      "text/plain": [
       "0        19\n",
       "1        23\n",
       "2        50\n",
       "3        11\n",
       "4        15\n",
       "         ..\n",
       "11425    17\n",
       "11426    18\n",
       "11427    16\n",
       "11428    30\n",
       "11429    14\n",
       "Name: longitud_hostname, Length: 11430, dtype: int64"
      ]
     },
     "execution_count": 10,
     "metadata": {},
     "output_type": "execute_result"
    }
   ],
   "source": [
    "df['longitud_hostname']"
   ]
  },
  {
   "cell_type": "code",
   "execution_count": 11,
   "id": "27dc293c-068a-4bca-a3ae-1398d8fd175a",
   "metadata": {},
   "outputs": [
    {
     "data": {
      "text/plain": [
       "0         7\n",
       "1         7\n",
       "2        19\n",
       "3         5\n",
       "4        10\n",
       "         ..\n",
       "11425     7\n",
       "11426    16\n",
       "11427    17\n",
       "11428     6\n",
       "11429    99\n",
       "Name: special_characters, Length: 11430, dtype: int64"
      ]
     },
     "execution_count": 11,
     "metadata": {},
     "output_type": "execute_result"
    }
   ],
   "source": [
    "df['special_characters']"
   ]
  },
  {
   "cell_type": "code",
   "execution_count": 12,
   "id": "5ae0555b-e3a7-42ae-a638-fffd0bf7a88e",
   "metadata": {},
   "outputs": [
    {
     "data": {
      "text/plain": [
       "0        0\n",
       "1        0\n",
       "2        1\n",
       "3        0\n",
       "4        0\n",
       "        ..\n",
       "11425    0\n",
       "11426    0\n",
       "11427    1\n",
       "11428    0\n",
       "11429    0\n",
       "Name: is_https, Length: 11430, dtype: int64"
      ]
     },
     "execution_count": 12,
     "metadata": {},
     "output_type": "execute_result"
    }
   ],
   "source": [
    "df['is_https']"
   ]
  },
  {
   "cell_type": "code",
   "execution_count": 13,
   "id": "cff98635-5087-415c-87b9-84f76484b9f9",
   "metadata": {},
   "outputs": [
    {
     "data": {
      "text/plain": [
       "0        0.000000\n",
       "1        0.220779\n",
       "2        0.150794\n",
       "3        0.000000\n",
       "4        0.000000\n",
       "           ...   \n",
       "11425    0.000000\n",
       "11426    0.023810\n",
       "11427    0.142857\n",
       "11428    0.000000\n",
       "11429    0.085954\n",
       "Name: ratio_digits_url, Length: 11430, dtype: float64"
      ]
     },
     "execution_count": 13,
     "metadata": {},
     "output_type": "execute_result"
    }
   ],
   "source": [
    "df['ratio_digits_url']"
   ]
  },
  {
   "cell_type": "code",
   "execution_count": 14,
   "id": "dd449a56-5750-468f-b79e-7d34f7c9305e",
   "metadata": {},
   "outputs": [
    {
     "data": {
      "text/plain": [
       "0        0.000000\n",
       "1        0.000000\n",
       "2        0.000000\n",
       "3        0.000000\n",
       "4        0.000000\n",
       "           ...   \n",
       "11425    0.000000\n",
       "11426    0.000000\n",
       "11427    0.000000\n",
       "11428    0.000000\n",
       "11429    0.785714\n",
       "Name: ratio_digits_domain, Length: 11430, dtype: float64"
      ]
     },
     "execution_count": 14,
     "metadata": {},
     "output_type": "execute_result"
    }
   ],
   "source": [
    "df['ratio_digits_domain']"
   ]
  },
  {
   "cell_type": "code",
   "execution_count": 15,
   "id": "6434d5dc-4863-426b-9c7b-56ff546d4329",
   "metadata": {},
   "outputs": [
    {
     "data": {
      "text/plain": [
       "0                    http://www.crestonwood.com/router.php\n",
       "1        http://shadetreetechnology.com/V4/validation/a...\n",
       "2        https://support-appleld.com.secureupdate.duila...\n",
       "3                                       http://rgipt.ac.in\n",
       "4        http://www.iracing.com/tracks/gateway-motorspo...\n",
       "                               ...                        \n",
       "11425        http://www.fontspace.com/category/blackletter\n",
       "11426    http://www.budgetbots.com/server.php/Server%20...\n",
       "11427    https://www.facebook.com/Interactive-Televisio...\n",
       "11428               http://www.mypublicdomainpictures.com/\n",
       "11429    http://174.139.46.123/ap/signin?openid.pape.ma...\n",
       "Name: url, Length: 11430, dtype: object"
      ]
     },
     "execution_count": 15,
     "metadata": {},
     "output_type": "execute_result"
    }
   ],
   "source": [
    "df['url']"
   ]
  },
  {
   "cell_type": "markdown",
   "id": "423c1ae1-97e8-433f-b67a-0047ca6c90e2",
   "metadata": {},
   "source": [
    "### Ejemplo"
   ]
  },
  {
   "cell_type": "markdown",
   "id": "1e28167d-1618-4e7c-a1d1-62335d71ef60",
   "metadata": {},
   "source": [
    "### Preprocesamiento"
   ]
  },
  {
   "cell_type": "code",
   "execution_count": 16,
   "id": "eb670b62-6bc5-4b9b-aff8-b30d52ec7744",
   "metadata": {},
   "outputs": [],
   "source": [
    "# Codificacion de variable objetivo\n",
    "df['status'] = df['status'].replace(to_replace='phishing', value = 1)\n",
    "df['status'] = df['status'].replace(to_replace='legitimate', value = 0)"
   ]
  },
  {
   "cell_type": "code",
   "execution_count": 17,
   "id": "c1627d29-0194-4679-a5b2-b27063965fd7",
   "metadata": {},
   "outputs": [
    {
     "data": {
      "text/plain": [
       "0        0\n",
       "1        1\n",
       "2        1\n",
       "3        0\n",
       "4        0\n",
       "        ..\n",
       "11425    0\n",
       "11426    1\n",
       "11427    0\n",
       "11428    0\n",
       "11429    1\n",
       "Name: status, Length: 11430, dtype: int64"
      ]
     },
     "execution_count": 17,
     "metadata": {},
     "output_type": "execute_result"
    }
   ],
   "source": [
    "df['status']"
   ]
  },
  {
   "cell_type": "code",
   "execution_count": 18,
   "id": "badf25e2-5ed5-406c-8f11-e4b1dcdd18f1",
   "metadata": {},
   "outputs": [],
   "source": [
    "df.drop(['url'], axis = 1, inplace = True)"
   ]
  },
  {
   "cell_type": "code",
   "execution_count": null,
   "id": "51c1f440-929a-42ee-8f2b-85bbbac54ca3",
   "metadata": {},
   "outputs": [],
   "source": []
  }
 ],
 "metadata": {
  "kernelspec": {
   "display_name": "Python 3 (ipykernel)",
   "language": "python",
   "name": "python3"
  },
  "language_info": {
   "codemirror_mode": {
    "name": "ipython",
    "version": 3
   },
   "file_extension": ".py",
   "mimetype": "text/x-python",
   "name": "python",
   "nbconvert_exporter": "python",
   "pygments_lexer": "ipython3",
   "version": "3.9.10"
  }
 },
 "nbformat": 4,
 "nbformat_minor": 5
}

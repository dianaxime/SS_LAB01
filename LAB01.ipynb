{
 "cells": [
  {
   "cell_type": "markdown",
   "id": "b77481f0",
   "metadata": {},
   "source": [
    "## LAB01 Detección de pishing"
   ]
  },
  {
   "cell_type": "markdown",
   "id": "06305d18",
   "metadata": {},
   "source": [
    "#### Paula Camila Gonzalez Ortega, 18398\n",
    "#### Diana Ximena de León Figueroa, 18607"
   ]
  },
  {
   "cell_type": "code",
   "execution_count": 18,
   "id": "38301521",
   "metadata": {},
   "outputs": [],
   "source": [
    "import pandas as pd\n",
    "import numpy as np\n",
    "import  re\n",
    "import  matplotlib.pyplot as plt\n",
    "import seaborn as sns\n",
    "from urllib.parse import urlparse, urlencode\n",
    "from pandas_profiling import ProfileReport"
   ]
  },
  {
   "cell_type": "markdown",
   "id": "36c670c8",
   "metadata": {},
   "source": [
    "### Exploración de datos"
   ]
  },
  {
   "cell_type": "code",
   "execution_count": 3,
   "id": "2996fedc",
   "metadata": {},
   "outputs": [],
   "source": [
    "df = pd.read_csv('dataset_pishing.csv')"
   ]
  },
  {
   "cell_type": "code",
   "execution_count": 4,
   "id": "51caf7e2",
   "metadata": {},
   "outputs": [
    {
     "data": {
      "text/html": [
       "<div>\n",
       "<style scoped>\n",
       "    .dataframe tbody tr th:only-of-type {\n",
       "        vertical-align: middle;\n",
       "    }\n",
       "\n",
       "    .dataframe tbody tr th {\n",
       "        vertical-align: top;\n",
       "    }\n",
       "\n",
       "    .dataframe thead th {\n",
       "        text-align: right;\n",
       "    }\n",
       "</style>\n",
       "<table border=\"1\" class=\"dataframe\">\n",
       "  <thead>\n",
       "    <tr style=\"text-align: right;\">\n",
       "      <th></th>\n",
       "      <th>url</th>\n",
       "      <th>ip</th>\n",
       "      <th>nb_www</th>\n",
       "      <th>nb_com</th>\n",
       "      <th>nb_dslash</th>\n",
       "      <th>http_in_path</th>\n",
       "      <th>punycode</th>\n",
       "      <th>port</th>\n",
       "      <th>tld_in_path</th>\n",
       "      <th>tld_in_subdomain</th>\n",
       "      <th>...</th>\n",
       "      <th>domain_in_title</th>\n",
       "      <th>domain_with_copyright</th>\n",
       "      <th>whois_registered_domain</th>\n",
       "      <th>domain_registration_length</th>\n",
       "      <th>domain_age</th>\n",
       "      <th>web_traffic</th>\n",
       "      <th>dns_record</th>\n",
       "      <th>google_index</th>\n",
       "      <th>page_rank</th>\n",
       "      <th>status</th>\n",
       "    </tr>\n",
       "  </thead>\n",
       "  <tbody>\n",
       "    <tr>\n",
       "      <th>0</th>\n",
       "      <td>http://www.crestonwood.com/router.php</td>\n",
       "      <td>0</td>\n",
       "      <td>1</td>\n",
       "      <td>0</td>\n",
       "      <td>0</td>\n",
       "      <td>0</td>\n",
       "      <td>0</td>\n",
       "      <td>0</td>\n",
       "      <td>0</td>\n",
       "      <td>0</td>\n",
       "      <td>...</td>\n",
       "      <td>0</td>\n",
       "      <td>1</td>\n",
       "      <td>0</td>\n",
       "      <td>45</td>\n",
       "      <td>-1</td>\n",
       "      <td>0</td>\n",
       "      <td>1</td>\n",
       "      <td>1</td>\n",
       "      <td>4</td>\n",
       "      <td>legitimate</td>\n",
       "    </tr>\n",
       "    <tr>\n",
       "      <th>1</th>\n",
       "      <td>http://shadetreetechnology.com/V4/validation/a...</td>\n",
       "      <td>1</td>\n",
       "      <td>0</td>\n",
       "      <td>0</td>\n",
       "      <td>0</td>\n",
       "      <td>0</td>\n",
       "      <td>0</td>\n",
       "      <td>0</td>\n",
       "      <td>0</td>\n",
       "      <td>0</td>\n",
       "      <td>...</td>\n",
       "      <td>1</td>\n",
       "      <td>0</td>\n",
       "      <td>0</td>\n",
       "      <td>77</td>\n",
       "      <td>5767</td>\n",
       "      <td>0</td>\n",
       "      <td>0</td>\n",
       "      <td>1</td>\n",
       "      <td>2</td>\n",
       "      <td>phishing</td>\n",
       "    </tr>\n",
       "    <tr>\n",
       "      <th>2</th>\n",
       "      <td>https://support-appleld.com.secureupdate.duila...</td>\n",
       "      <td>1</td>\n",
       "      <td>0</td>\n",
       "      <td>1</td>\n",
       "      <td>0</td>\n",
       "      <td>0</td>\n",
       "      <td>0</td>\n",
       "      <td>0</td>\n",
       "      <td>0</td>\n",
       "      <td>1</td>\n",
       "      <td>...</td>\n",
       "      <td>1</td>\n",
       "      <td>0</td>\n",
       "      <td>0</td>\n",
       "      <td>14</td>\n",
       "      <td>4004</td>\n",
       "      <td>5828815</td>\n",
       "      <td>0</td>\n",
       "      <td>1</td>\n",
       "      <td>0</td>\n",
       "      <td>phishing</td>\n",
       "    </tr>\n",
       "    <tr>\n",
       "      <th>3</th>\n",
       "      <td>http://rgipt.ac.in</td>\n",
       "      <td>0</td>\n",
       "      <td>0</td>\n",
       "      <td>0</td>\n",
       "      <td>0</td>\n",
       "      <td>0</td>\n",
       "      <td>0</td>\n",
       "      <td>0</td>\n",
       "      <td>0</td>\n",
       "      <td>0</td>\n",
       "      <td>...</td>\n",
       "      <td>1</td>\n",
       "      <td>0</td>\n",
       "      <td>0</td>\n",
       "      <td>62</td>\n",
       "      <td>-1</td>\n",
       "      <td>107721</td>\n",
       "      <td>0</td>\n",
       "      <td>0</td>\n",
       "      <td>3</td>\n",
       "      <td>legitimate</td>\n",
       "    </tr>\n",
       "    <tr>\n",
       "      <th>4</th>\n",
       "      <td>http://www.iracing.com/tracks/gateway-motorspo...</td>\n",
       "      <td>0</td>\n",
       "      <td>1</td>\n",
       "      <td>0</td>\n",
       "      <td>0</td>\n",
       "      <td>0</td>\n",
       "      <td>0</td>\n",
       "      <td>0</td>\n",
       "      <td>0</td>\n",
       "      <td>0</td>\n",
       "      <td>...</td>\n",
       "      <td>0</td>\n",
       "      <td>1</td>\n",
       "      <td>0</td>\n",
       "      <td>224</td>\n",
       "      <td>8175</td>\n",
       "      <td>8725</td>\n",
       "      <td>0</td>\n",
       "      <td>0</td>\n",
       "      <td>6</td>\n",
       "      <td>legitimate</td>\n",
       "    </tr>\n",
       "  </tbody>\n",
       "</table>\n",
       "<p>5 rows × 67 columns</p>\n",
       "</div>"
      ],
      "text/plain": [
       "                                                 url  ip  nb_www  nb_com  \\\n",
       "0              http://www.crestonwood.com/router.php   0       1       0   \n",
       "1  http://shadetreetechnology.com/V4/validation/a...   1       0       0   \n",
       "2  https://support-appleld.com.secureupdate.duila...   1       0       1   \n",
       "3                                 http://rgipt.ac.in   0       0       0   \n",
       "4  http://www.iracing.com/tracks/gateway-motorspo...   0       1       0   \n",
       "\n",
       "   nb_dslash  http_in_path  punycode  port  tld_in_path  tld_in_subdomain  \\\n",
       "0          0             0         0     0            0                 0   \n",
       "1          0             0         0     0            0                 0   \n",
       "2          0             0         0     0            0                 1   \n",
       "3          0             0         0     0            0                 0   \n",
       "4          0             0         0     0            0                 0   \n",
       "\n",
       "   ...  domain_in_title  domain_with_copyright  whois_registered_domain  \\\n",
       "0  ...                0                      1                        0   \n",
       "1  ...                1                      0                        0   \n",
       "2  ...                1                      0                        0   \n",
       "3  ...                1                      0                        0   \n",
       "4  ...                0                      1                        0   \n",
       "\n",
       "   domain_registration_length  domain_age  web_traffic  dns_record  \\\n",
       "0                          45          -1            0           1   \n",
       "1                          77        5767            0           0   \n",
       "2                          14        4004      5828815           0   \n",
       "3                          62          -1       107721           0   \n",
       "4                         224        8175         8725           0   \n",
       "\n",
       "   google_index  page_rank      status  \n",
       "0             1          4  legitimate  \n",
       "1             1          2    phishing  \n",
       "2             1          0    phishing  \n",
       "3             0          3  legitimate  \n",
       "4             0          6  legitimate  \n",
       "\n",
       "[5 rows x 67 columns]"
      ]
     },
     "execution_count": 4,
     "metadata": {},
     "output_type": "execute_result"
    }
   ],
   "source": [
    "df.head()"
   ]
  },
  {
   "cell_type": "code",
   "execution_count": 24,
   "id": "b91278c5",
   "metadata": {},
   "outputs": [
    {
     "name": "stdout",
     "output_type": "stream",
     "text": [
      "<class 'pandas.core.frame.DataFrame'>\n",
      "RangeIndex: 11430 entries, 0 to 11429\n",
      "Data columns (total 73 columns):\n",
      " #   Column                      Non-Null Count  Dtype  \n",
      "---  ------                      --------------  -----  \n",
      " 0   url                         11430 non-null  object \n",
      " 1   ip                          11430 non-null  int64  \n",
      " 2   nb_www                      11430 non-null  int64  \n",
      " 3   nb_com                      11430 non-null  int64  \n",
      " 4   nb_dslash                   11430 non-null  int64  \n",
      " 5   http_in_path                11430 non-null  int64  \n",
      " 6   punycode                    11430 non-null  int64  \n",
      " 7   port                        11430 non-null  int64  \n",
      " 8   tld_in_path                 11430 non-null  int64  \n",
      " 9   tld_in_subdomain            11430 non-null  int64  \n",
      " 10  abnormal_subdomain          11430 non-null  int64  \n",
      " 11  nb_subdomains               11430 non-null  int64  \n",
      " 12  prefix_suffix               11430 non-null  int64  \n",
      " 13  random_domain               11430 non-null  int64  \n",
      " 14  shortening_service          11430 non-null  int64  \n",
      " 15  path_extension              11430 non-null  int64  \n",
      " 16  nb_redirection              11430 non-null  int64  \n",
      " 17  nb_external_redirection     11430 non-null  int64  \n",
      " 18  length_words_raw            11430 non-null  int64  \n",
      " 19  char_repeat                 11430 non-null  int64  \n",
      " 20  shortest_words_raw          11430 non-null  int64  \n",
      " 21  shortest_word_host          11430 non-null  int64  \n",
      " 22  shortest_word_path          11430 non-null  int64  \n",
      " 23  longest_words_raw           11430 non-null  int64  \n",
      " 24  longest_word_host           11430 non-null  int64  \n",
      " 25  longest_word_path           11430 non-null  int64  \n",
      " 26  avg_words_raw               11430 non-null  float64\n",
      " 27  avg_word_host               11430 non-null  float64\n",
      " 28  avg_word_path               11430 non-null  float64\n",
      " 29  phish_hints                 11430 non-null  int64  \n",
      " 30  domain_in_brand             11430 non-null  int64  \n",
      " 31  brand_in_subdomain          11430 non-null  int64  \n",
      " 32  brand_in_path               11430 non-null  int64  \n",
      " 33  suspecious_tld              11430 non-null  int64  \n",
      " 34  statistical_report          11430 non-null  int64  \n",
      " 35  nb_hyperlinks               11430 non-null  int64  \n",
      " 36  ratio_intHyperlinks         11430 non-null  float64\n",
      " 37  ratio_extHyperlinks         11430 non-null  float64\n",
      " 38  ratio_nullHyperlinks        11430 non-null  int64  \n",
      " 39  nb_extCSS                   11430 non-null  int64  \n",
      " 40  ratio_intRedirection        11430 non-null  int64  \n",
      " 41  ratio_extRedirection        11430 non-null  float64\n",
      " 42  ratio_intErrors             11430 non-null  int64  \n",
      " 43  ratio_extErrors             11430 non-null  float64\n",
      " 44  login_form                  11430 non-null  int64  \n",
      " 45  external_favicon            11430 non-null  int64  \n",
      " 46  links_in_tags               11430 non-null  float64\n",
      " 47  submit_email                11430 non-null  int64  \n",
      " 48  ratio_intMedia              11430 non-null  float64\n",
      " 49  ratio_extMedia              11430 non-null  float64\n",
      " 50  sfh                         11430 non-null  int64  \n",
      " 51  iframe                      11430 non-null  int64  \n",
      " 52  popup_window                11430 non-null  int64  \n",
      " 53  safe_anchor                 11430 non-null  float64\n",
      " 54  onmouseover                 11430 non-null  int64  \n",
      " 55  right_clic                  11430 non-null  int64  \n",
      " 56  empty_title                 11430 non-null  int64  \n",
      " 57  domain_in_title             11430 non-null  int64  \n",
      " 58  domain_with_copyright       11430 non-null  int64  \n",
      " 59  whois_registered_domain     11430 non-null  int64  \n",
      " 60  domain_registration_length  11430 non-null  int64  \n",
      " 61  domain_age                  11430 non-null  int64  \n",
      " 62  web_traffic                 11430 non-null  int64  \n",
      " 63  dns_record                  11430 non-null  int64  \n",
      " 64  google_index                11430 non-null  int64  \n",
      " 65  page_rank                   11430 non-null  int64  \n",
      " 66  status                      11430 non-null  object \n",
      " 67  longitud_url                11430 non-null  int64  \n",
      " 68  longitud_hostname           11430 non-null  int64  \n",
      " 69  special_characters          11430 non-null  int64  \n",
      " 70  is_https                    11430 non-null  int64  \n",
      " 71  ratio_digits_url            11430 non-null  float64\n",
      " 72  ratio_digits_domain         11430 non-null  float64\n",
      "dtypes: float64(13), int64(58), object(2)\n",
      "memory usage: 6.4+ MB\n"
     ]
    }
   ],
   "source": [
    "df.info()"
   ]
  },
  {
   "cell_type": "markdown",
   "id": "cd6e7a7d",
   "metadata": {},
   "source": [
    "##### Muestre la cantidad de observaciones etiquetadas en la columna status como “legit” y como “pishing”. ¿Está balanceado el dataset?"
   ]
  },
  {
   "cell_type": "markdown",
   "id": "81f4d821",
   "metadata": {},
   "source": [
    "Esta balanceado"
   ]
  },
  {
   "cell_type": "code",
   "execution_count": 6,
   "id": "f9e92ec8",
   "metadata": {},
   "outputs": [
    {
     "data": {
      "text/plain": [
       "legitimate    5715\n",
       "phishing      5715\n",
       "Name: status, dtype: int64"
      ]
     },
     "execution_count": 6,
     "metadata": {},
     "output_type": "execute_result"
    }
   ],
   "source": [
    "df['status'].value_counts() "
   ]
  },
  {
   "cell_type": "markdown",
   "id": "33d0a1da",
   "metadata": {},
   "source": [
    "### Derivación de las características"
   ]
  },
  {
   "cell_type": "code",
   "execution_count": 7,
   "id": "efa78e76",
   "metadata": {},
   "outputs": [],
   "source": [
    "def getDomain(url):\n",
    "    return urlparse(url).netloc\n",
    "    \n",
    "def getProtocol(url):\n",
    "    return 1 if urlparse(url).scheme == 'https' else 0\n",
    "    \n",
    "def getSpecialCharacters(url):\n",
    "    count_characters = 0\n",
    "    count_characters += url.count('.')\n",
    "    count_characters += url.count('-')\n",
    "    count_characters += url.count('@')\n",
    "    count_characters += url.count('?')\n",
    "    count_characters += url.count('&')\n",
    "    count_characters += url.count('|')\n",
    "    count_characters += url.count('=')\n",
    "    count_characters += url.count('_')\n",
    "    count_characters += url.count('~')\n",
    "    count_characters += url.count('%')\n",
    "    count_characters += url.count('/')\n",
    "    count_characters += url.count('*')\n",
    "    count_characters += url.count(':')\n",
    "    count_characters += url.count(',')\n",
    "    count_characters += url.count(';')\n",
    "    count_characters += url.count('$')\n",
    "    count_characters += url.count('%20')\n",
    "    count_characters += url.count(' ')\n",
    "    return count_characters"
   ]
  },
  {
   "cell_type": "code",
   "execution_count": 8,
   "id": "a87d7df1",
   "metadata": {},
   "outputs": [],
   "source": [
    "df['longitud_url'] = df['url'].str.len()\n",
    "df['longitud_hostname'] = df['url'].apply(getDomain).str.len()\n",
    "df['special_characters'] = df['url'].apply(getSpecialCharacters)\n",
    "df['is_https'] = df['url'].apply(getProtocol)\n",
    "df['ratio_digits_url'] = df['url'].str.count('[0-9]') / df['url'].str.len()\n",
    "df['ratio_digits_domain'] = df['url'].apply(getDomain).str.count('[0-9]') / df['url'].apply(getDomain).str.len()"
   ]
  },
  {
   "cell_type": "code",
   "execution_count": 9,
   "id": "026b15dc",
   "metadata": {},
   "outputs": [
    {
     "data": {
      "text/plain": [
       "0         37\n",
       "1         77\n",
       "2        126\n",
       "3         18\n",
       "4         55\n",
       "        ... \n",
       "11425     45\n",
       "11426     84\n",
       "11427    105\n",
       "11428     38\n",
       "11429    477\n",
       "Name: longitud_url, Length: 11430, dtype: int64"
      ]
     },
     "execution_count": 9,
     "metadata": {},
     "output_type": "execute_result"
    }
   ],
   "source": [
    "df['longitud_url']"
   ]
  },
  {
   "cell_type": "code",
   "execution_count": 10,
   "id": "48d0fddd",
   "metadata": {},
   "outputs": [
    {
     "data": {
      "text/plain": [
       "0        19\n",
       "1        23\n",
       "2        50\n",
       "3        11\n",
       "4        15\n",
       "         ..\n",
       "11425    17\n",
       "11426    18\n",
       "11427    16\n",
       "11428    30\n",
       "11429    14\n",
       "Name: longitud_hostname, Length: 11430, dtype: int64"
      ]
     },
     "execution_count": 10,
     "metadata": {},
     "output_type": "execute_result"
    }
   ],
   "source": [
    "df['longitud_hostname']"
   ]
  },
  {
   "cell_type": "code",
   "execution_count": 11,
   "id": "3dfd759b",
   "metadata": {},
   "outputs": [
    {
     "data": {
      "text/plain": [
       "0         7\n",
       "1         7\n",
       "2        19\n",
       "3         5\n",
       "4        10\n",
       "         ..\n",
       "11425     7\n",
       "11426    16\n",
       "11427    17\n",
       "11428     6\n",
       "11429    99\n",
       "Name: special_characters, Length: 11430, dtype: int64"
      ]
     },
     "execution_count": 11,
     "metadata": {},
     "output_type": "execute_result"
    }
   ],
   "source": [
    "df['special_characters']"
   ]
  },
  {
   "cell_type": "code",
   "execution_count": 12,
   "id": "945ed53b",
   "metadata": {},
   "outputs": [
    {
     "data": {
      "text/plain": [
       "0        0\n",
       "1        0\n",
       "2        1\n",
       "3        0\n",
       "4        0\n",
       "        ..\n",
       "11425    0\n",
       "11426    0\n",
       "11427    1\n",
       "11428    0\n",
       "11429    0\n",
       "Name: is_https, Length: 11430, dtype: int64"
      ]
     },
     "execution_count": 12,
     "metadata": {},
     "output_type": "execute_result"
    }
   ],
   "source": [
    "df['is_https']"
   ]
  },
  {
   "cell_type": "code",
   "execution_count": 13,
   "id": "4dcc2c76",
   "metadata": {},
   "outputs": [
    {
     "data": {
      "text/plain": [
       "0        0.000000\n",
       "1        0.220779\n",
       "2        0.150794\n",
       "3        0.000000\n",
       "4        0.000000\n",
       "           ...   \n",
       "11425    0.000000\n",
       "11426    0.023810\n",
       "11427    0.142857\n",
       "11428    0.000000\n",
       "11429    0.085954\n",
       "Name: ratio_digits_url, Length: 11430, dtype: float64"
      ]
     },
     "execution_count": 13,
     "metadata": {},
     "output_type": "execute_result"
    }
   ],
   "source": [
    "df['ratio_digits_url']"
   ]
  },
  {
   "cell_type": "code",
   "execution_count": 14,
   "id": "aa9b8759",
   "metadata": {},
   "outputs": [
    {
     "data": {
      "text/plain": [
       "0        0.000000\n",
       "1        0.000000\n",
       "2        0.000000\n",
       "3        0.000000\n",
       "4        0.000000\n",
       "           ...   \n",
       "11425    0.000000\n",
       "11426    0.000000\n",
       "11427    0.000000\n",
       "11428    0.000000\n",
       "11429    0.785714\n",
       "Name: ratio_digits_domain, Length: 11430, dtype: float64"
      ]
     },
     "execution_count": 14,
     "metadata": {},
     "output_type": "execute_result"
    }
   ],
   "source": [
    "df['ratio_digits_domain']"
   ]
  },
  {
   "cell_type": "code",
   "execution_count": 15,
   "id": "f6525fde",
   "metadata": {},
   "outputs": [
    {
     "data": {
      "text/plain": [
       "0                    http://www.crestonwood.com/router.php\n",
       "1        http://shadetreetechnology.com/V4/validation/a...\n",
       "2        https://support-appleld.com.secureupdate.duila...\n",
       "3                                       http://rgipt.ac.in\n",
       "4        http://www.iracing.com/tracks/gateway-motorspo...\n",
       "                               ...                        \n",
       "11425        http://www.fontspace.com/category/blackletter\n",
       "11426    http://www.budgetbots.com/server.php/Server%20...\n",
       "11427    https://www.facebook.com/Interactive-Televisio...\n",
       "11428               http://www.mypublicdomainpictures.com/\n",
       "11429    http://174.139.46.123/ap/signin?openid.pape.ma...\n",
       "Name: url, Length: 11430, dtype: object"
      ]
     },
     "execution_count": 15,
     "metadata": {},
     "output_type": "execute_result"
    }
   ],
   "source": [
    "df['url']"
   ]
  },
  {
   "cell_type": "markdown",
   "id": "dfa402b4",
   "metadata": {},
   "source": [
    "### Ejemplo"
   ]
  },
  {
   "cell_type": "code",
   "execution_count": 29,
   "id": "8986daba",
   "metadata": {},
   "outputs": [
    {
     "data": {
      "text/html": [
       "<div>\n",
       "<style scoped>\n",
       "    .dataframe tbody tr th:only-of-type {\n",
       "        vertical-align: middle;\n",
       "    }\n",
       "\n",
       "    .dataframe tbody tr th {\n",
       "        vertical-align: top;\n",
       "    }\n",
       "\n",
       "    .dataframe thead th {\n",
       "        text-align: right;\n",
       "    }\n",
       "</style>\n",
       "<table border=\"1\" class=\"dataframe\">\n",
       "  <thead>\n",
       "    <tr style=\"text-align: right;\">\n",
       "      <th></th>\n",
       "      <th>url</th>\n",
       "      <th>longitud_url</th>\n",
       "      <th>longitud_hostname</th>\n",
       "      <th>special_characters</th>\n",
       "      <th>is_https</th>\n",
       "      <th>ratio_digits_url</th>\n",
       "      <th>ratio_digits_domain</th>\n",
       "    </tr>\n",
       "  </thead>\n",
       "  <tbody>\n",
       "    <tr>\n",
       "      <th>0</th>\n",
       "      <td>http://www.crestonwood.com/router.php</td>\n",
       "      <td>37</td>\n",
       "      <td>19</td>\n",
       "      <td>7</td>\n",
       "      <td>0</td>\n",
       "      <td>0.000000</td>\n",
       "      <td>0.0</td>\n",
       "    </tr>\n",
       "    <tr>\n",
       "      <th>1</th>\n",
       "      <td>http://shadetreetechnology.com/V4/validation/a...</td>\n",
       "      <td>77</td>\n",
       "      <td>23</td>\n",
       "      <td>7</td>\n",
       "      <td>0</td>\n",
       "      <td>0.220779</td>\n",
       "      <td>0.0</td>\n",
       "    </tr>\n",
       "    <tr>\n",
       "      <th>2</th>\n",
       "      <td>https://support-appleld.com.secureupdate.duila...</td>\n",
       "      <td>126</td>\n",
       "      <td>50</td>\n",
       "      <td>19</td>\n",
       "      <td>1</td>\n",
       "      <td>0.150794</td>\n",
       "      <td>0.0</td>\n",
       "    </tr>\n",
       "    <tr>\n",
       "      <th>3</th>\n",
       "      <td>http://rgipt.ac.in</td>\n",
       "      <td>18</td>\n",
       "      <td>11</td>\n",
       "      <td>5</td>\n",
       "      <td>0</td>\n",
       "      <td>0.000000</td>\n",
       "      <td>0.0</td>\n",
       "    </tr>\n",
       "    <tr>\n",
       "      <th>4</th>\n",
       "      <td>http://www.iracing.com/tracks/gateway-motorspo...</td>\n",
       "      <td>55</td>\n",
       "      <td>15</td>\n",
       "      <td>10</td>\n",
       "      <td>0</td>\n",
       "      <td>0.000000</td>\n",
       "      <td>0.0</td>\n",
       "    </tr>\n",
       "  </tbody>\n",
       "</table>\n",
       "</div>"
      ],
      "text/plain": [
       "                                                 url  longitud_url  \\\n",
       "0              http://www.crestonwood.com/router.php            37   \n",
       "1  http://shadetreetechnology.com/V4/validation/a...            77   \n",
       "2  https://support-appleld.com.secureupdate.duila...           126   \n",
       "3                                 http://rgipt.ac.in            18   \n",
       "4  http://www.iracing.com/tracks/gateway-motorspo...            55   \n",
       "\n",
       "   longitud_hostname  special_characters  is_https  ratio_digits_url  \\\n",
       "0                 19                   7         0          0.000000   \n",
       "1                 23                   7         0          0.220779   \n",
       "2                 50                  19         1          0.150794   \n",
       "3                 11                   5         0          0.000000   \n",
       "4                 15                  10         0          0.000000   \n",
       "\n",
       "   ratio_digits_domain  \n",
       "0                  0.0  \n",
       "1                  0.0  \n",
       "2                  0.0  \n",
       "3                  0.0  \n",
       "4                  0.0  "
      ]
     },
     "execution_count": 29,
     "metadata": {},
     "output_type": "execute_result"
    }
   ],
   "source": [
    "df.iloc[:, [0, 67, 68, 69, 70, 71, 72 ]].head()"
   ]
  },
  {
   "cell_type": "markdown",
   "id": "21f8a76a",
   "metadata": {},
   "source": [
    "### Preprocesamiento"
   ]
  },
  {
   "cell_type": "code",
   "execution_count": 32,
   "id": "08a6220b",
   "metadata": {},
   "outputs": [],
   "source": [
    "# Codificacion de variable objetivo\n",
    "df['status'] = df['status'].replace(to_replace='phishing', value = 1)\n",
    "df['status'] = df['status'].replace(to_replace='legitimate', value = 0)"
   ]
  },
  {
   "cell_type": "code",
   "execution_count": 33,
   "id": "8dd018e1",
   "metadata": {},
   "outputs": [
    {
     "data": {
      "text/plain": [
       "0        0\n",
       "1        1\n",
       "2        1\n",
       "3        0\n",
       "4        0\n",
       "        ..\n",
       "11425    0\n",
       "11426    1\n",
       "11427    0\n",
       "11428    0\n",
       "11429    1\n",
       "Name: status, Length: 11430, dtype: int64"
      ]
     },
     "execution_count": 33,
     "metadata": {},
     "output_type": "execute_result"
    }
   ],
   "source": [
    "df['status']"
   ]
  },
  {
   "cell_type": "code",
   "execution_count": 34,
   "id": "6e3bf1ab",
   "metadata": {},
   "outputs": [],
   "source": [
    "df.drop(['url'], axis = 1, inplace = True)"
   ]
  },
  {
   "cell_type": "markdown",
   "id": "195ace5f",
   "metadata": {},
   "source": [
    "### Visualización de resultados"
   ]
  },
  {
   "cell_type": "code",
   "execution_count": 35,
   "id": "2b7173c3",
   "metadata": {},
   "outputs": [
    {
     "data": {
      "application/vnd.jupyter.widget-view+json": {
       "model_id": "5e6bc00b3c5b4460b9900db4c28f7ad1",
       "version_major": 2,
       "version_minor": 0
      },
      "text/plain": [
       "Summarize dataset:   0%|          | 0/85 [00:00<?, ?it/s]"
      ]
     },
     "metadata": {},
     "output_type": "display_data"
    },
    {
     "data": {
      "application/vnd.jupyter.widget-view+json": {
       "model_id": "3669031e666b4431ac822a3d4ee7823d",
       "version_major": 2,
       "version_minor": 0
      },
      "text/plain": [
       "Generate report structure:   0%|          | 0/1 [00:00<?, ?it/s]"
      ]
     },
     "metadata": {},
     "output_type": "display_data"
    },
    {
     "data": {
      "application/vnd.jupyter.widget-view+json": {
       "model_id": "8d1b46c905c045038c0c0812a6fd34ea",
       "version_major": 2,
       "version_minor": 0
      },
      "text/plain": [
       "Render HTML:   0%|          | 0/1 [00:00<?, ?it/s]"
      ]
     },
     "metadata": {},
     "output_type": "display_data"
    },
    {
     "data": {
      "application/vnd.jupyter.widget-view+json": {
       "model_id": "2a466df672654a96af917ad1f35ce941",
       "version_major": 2,
       "version_minor": 0
      },
      "text/plain": [
       "Export report to file:   0%|          | 0/1 [00:00<?, ?it/s]"
      ]
     },
     "metadata": {},
     "output_type": "display_data"
    }
   ],
   "source": [
    "profile = ProfileReport(df, title='Reporte Pishing final')\n",
    "profile.to_file('Reporte Deteccion de Pishing presentacion.html')"
   ]
  },
  {
   "cell_type": "code",
   "execution_count": 42,
   "id": "5cc09819",
   "metadata": {},
   "outputs": [
    {
     "name": "stdout",
     "output_type": "stream",
     "text": [
      "Feature Importance in the prediction of status\n"
     ]
    },
    {
     "data": {
      "image/png": "[encoded data removed]",
      "text/plain": [
       "<Figure size 1440x720 with 1 Axes>"
      ]
     },
     "metadata": {},
     "output_type": "display_data"
    }
   ],
   "source": [
    "from quickda.explore_data import *\n",
    "from quickda.clean_data import *\n",
    "from quickda.explore_numeric import *\n",
    "from quickda.explore_categoric import *\n",
    "from quickda.explore_numeric_categoric import *\n",
    "from quickda.explore_time_series import *\n",
    "\n",
    "eda_numcat(df, \"status\", \n",
    "           method = \"pps\") "
   ]
  },
  {
   "cell_type": "code",
   "execution_count": 43,
   "id": "9d7d4642",
   "metadata": {},
   "outputs": [
    {
     "data": {
      "image/png": "[encoded data removed]",
      "text/plain": [
       "<Figure size 576x864 with 2 Axes>"
      ]
     },
     "metadata": {},
     "output_type": "display_data"
    }
   ],
   "source": [
    "plt.figure(figsize=(8, 12))\n",
    "heatmap = sns.heatmap(df.corr()[['status']].sort_values(by='status', ascending=False), vmin=-1, vmax=1, annot=True, cmap='BrBG')\n",
    "heatmap.set_title('Features Correlating with Status', fontdict={'fontsize':18}, pad=16);"
   ]
  },
  {
   "cell_type": "markdown",
   "id": "0369a264",
   "metadata": {},
   "source": [
    "Con el reporte generado fue posible decidir que solo algunas columnas se relacionan mucho con la variable 'status', a continuacion se detallan las mismas:\n",
    "'nb_com'                  \n",
    ",'tld_in_subdomain'            \n",
    ",'abnormal_subdomain'                      \n",
    ",'prefix_suffix'               \n",
    ",'longest_words_raw'           \n",
    ",'phish_hints '                            \n",
    ",'suspecious_tld '                    \n",
    ",'dns_record '                                       \n",
    ",'longitud_url '                                 \n",
    ",'ratio_digits_url '           \n",
    ",'ratio_digits_domain'      "
   ]
  },
  {
   "cell_type": "markdown",
   "id": "67b3112b",
   "metadata": {},
   "source": [
    "### Selección de características"
   ]
  },
  {
   "cell_type": "code",
   "execution_count": 59,
   "id": "acf53cb8",
   "metadata": {},
   "outputs": [],
   "source": [
    "## se guardan solo las columnas importantes y con bastante correlación\n",
    "new_df = df[['status','nb_com', 'tld_in_subdomain', 'abnormal_subdomain','prefix_suffix', 'longest_words_raw', 'phish_hints', 'suspecious_tld', 'dns_record', 'longitud_url', 'ratio_digits_url', 'ratio_digits_domain']]"
   ]
  },
  {
   "cell_type": "code",
   "execution_count": 60,
   "id": "c55aa63e",
   "metadata": {},
   "outputs": [
    {
     "data": {
      "text/html": [
       "<div>\n",
       "<style scoped>\n",
       "    .dataframe tbody tr th:only-of-type {\n",
       "        vertical-align: middle;\n",
       "    }\n",
       "\n",
       "    .dataframe tbody tr th {\n",
       "        vertical-align: top;\n",
       "    }\n",
       "\n",
       "    .dataframe thead th {\n",
       "        text-align: right;\n",
       "    }\n",
       "</style>\n",
       "<table border=\"1\" class=\"dataframe\">\n",
       "  <thead>\n",
       "    <tr style=\"text-align: right;\">\n",
       "      <th></th>\n",
       "      <th>status</th>\n",
       "      <th>nb_com</th>\n",
       "      <th>tld_in_subdomain</th>\n",
       "      <th>abnormal_subdomain</th>\n",
       "      <th>prefix_suffix</th>\n",
       "      <th>longest_words_raw</th>\n",
       "      <th>phish_hints</th>\n",
       "      <th>suspecious_tld</th>\n",
       "      <th>dns_record</th>\n",
       "      <th>longitud_url</th>\n",
       "      <th>ratio_digits_url</th>\n",
       "      <th>ratio_digits_domain</th>\n",
       "    </tr>\n",
       "  </thead>\n",
       "  <tbody>\n",
       "    <tr>\n",
       "      <th>0</th>\n",
       "      <td>0</td>\n",
       "      <td>0</td>\n",
       "      <td>0</td>\n",
       "      <td>0</td>\n",
       "      <td>0</td>\n",
       "      <td>11</td>\n",
       "      <td>0</td>\n",
       "      <td>0</td>\n",
       "      <td>1</td>\n",
       "      <td>37</td>\n",
       "      <td>0.000000</td>\n",
       "      <td>0.000000</td>\n",
       "    </tr>\n",
       "    <tr>\n",
       "      <th>1</th>\n",
       "      <td>1</td>\n",
       "      <td>0</td>\n",
       "      <td>0</td>\n",
       "      <td>0</td>\n",
       "      <td>0</td>\n",
       "      <td>32</td>\n",
       "      <td>0</td>\n",
       "      <td>0</td>\n",
       "      <td>0</td>\n",
       "      <td>77</td>\n",
       "      <td>0.220779</td>\n",
       "      <td>0.000000</td>\n",
       "    </tr>\n",
       "    <tr>\n",
       "      <th>2</th>\n",
       "      <td>1</td>\n",
       "      <td>1</td>\n",
       "      <td>1</td>\n",
       "      <td>0</td>\n",
       "      <td>1</td>\n",
       "      <td>17</td>\n",
       "      <td>0</td>\n",
       "      <td>0</td>\n",
       "      <td>0</td>\n",
       "      <td>126</td>\n",
       "      <td>0.150794</td>\n",
       "      <td>0.000000</td>\n",
       "    </tr>\n",
       "    <tr>\n",
       "      <th>3</th>\n",
       "      <td>0</td>\n",
       "      <td>0</td>\n",
       "      <td>0</td>\n",
       "      <td>0</td>\n",
       "      <td>0</td>\n",
       "      <td>5</td>\n",
       "      <td>0</td>\n",
       "      <td>0</td>\n",
       "      <td>0</td>\n",
       "      <td>18</td>\n",
       "      <td>0.000000</td>\n",
       "      <td>0.000000</td>\n",
       "    </tr>\n",
       "    <tr>\n",
       "      <th>4</th>\n",
       "      <td>0</td>\n",
       "      <td>0</td>\n",
       "      <td>0</td>\n",
       "      <td>0</td>\n",
       "      <td>0</td>\n",
       "      <td>11</td>\n",
       "      <td>0</td>\n",
       "      <td>0</td>\n",
       "      <td>0</td>\n",
       "      <td>55</td>\n",
       "      <td>0.000000</td>\n",
       "      <td>0.000000</td>\n",
       "    </tr>\n",
       "    <tr>\n",
       "      <th>...</th>\n",
       "      <td>...</td>\n",
       "      <td>...</td>\n",
       "      <td>...</td>\n",
       "      <td>...</td>\n",
       "      <td>...</td>\n",
       "      <td>...</td>\n",
       "      <td>...</td>\n",
       "      <td>...</td>\n",
       "      <td>...</td>\n",
       "      <td>...</td>\n",
       "      <td>...</td>\n",
       "      <td>...</td>\n",
       "    </tr>\n",
       "    <tr>\n",
       "      <th>11423</th>\n",
       "      <td>1</td>\n",
       "      <td>0</td>\n",
       "      <td>0</td>\n",
       "      <td>0</td>\n",
       "      <td>0</td>\n",
       "      <td>26</td>\n",
       "      <td>0</td>\n",
       "      <td>0</td>\n",
       "      <td>0</td>\n",
       "      <td>85</td>\n",
       "      <td>0.047059</td>\n",
       "      <td>0.000000</td>\n",
       "    </tr>\n",
       "    <tr>\n",
       "      <th>11424</th>\n",
       "      <td>0</td>\n",
       "      <td>1</td>\n",
       "      <td>0</td>\n",
       "      <td>0</td>\n",
       "      <td>0</td>\n",
       "      <td>8</td>\n",
       "      <td>0</td>\n",
       "      <td>0</td>\n",
       "      <td>0</td>\n",
       "      <td>62</td>\n",
       "      <td>0.000000</td>\n",
       "      <td>0.000000</td>\n",
       "    </tr>\n",
       "    <tr>\n",
       "      <th>11426</th>\n",
       "      <td>1</td>\n",
       "      <td>1</td>\n",
       "      <td>0</td>\n",
       "      <td>0</td>\n",
       "      <td>0</td>\n",
       "      <td>10</td>\n",
       "      <td>0</td>\n",
       "      <td>0</td>\n",
       "      <td>0</td>\n",
       "      <td>84</td>\n",
       "      <td>0.023810</td>\n",
       "      <td>0.000000</td>\n",
       "    </tr>\n",
       "    <tr>\n",
       "      <th>11427</th>\n",
       "      <td>0</td>\n",
       "      <td>0</td>\n",
       "      <td>0</td>\n",
       "      <td>0</td>\n",
       "      <td>0</td>\n",
       "      <td>15</td>\n",
       "      <td>0</td>\n",
       "      <td>0</td>\n",
       "      <td>0</td>\n",
       "      <td>105</td>\n",
       "      <td>0.142857</td>\n",
       "      <td>0.000000</td>\n",
       "    </tr>\n",
       "    <tr>\n",
       "      <th>11429</th>\n",
       "      <td>1</td>\n",
       "      <td>0</td>\n",
       "      <td>1</td>\n",
       "      <td>1</td>\n",
       "      <td>0</td>\n",
       "      <td>12</td>\n",
       "      <td>3</td>\n",
       "      <td>0</td>\n",
       "      <td>1</td>\n",
       "      <td>477</td>\n",
       "      <td>0.085954</td>\n",
       "      <td>0.785714</td>\n",
       "    </tr>\n",
       "  </tbody>\n",
       "</table>\n",
       "<p>7132 rows × 12 columns</p>\n",
       "</div>"
      ],
      "text/plain": [
       "       status  nb_com  tld_in_subdomain  abnormal_subdomain  prefix_suffix  \\\n",
       "0           0       0                 0                   0              0   \n",
       "1           1       0                 0                   0              0   \n",
       "2           1       1                 1                   0              1   \n",
       "3           0       0                 0                   0              0   \n",
       "4           0       0                 0                   0              0   \n",
       "...       ...     ...               ...                 ...            ...   \n",
       "11423       1       0                 0                   0              0   \n",
       "11424       0       1                 0                   0              0   \n",
       "11426       1       1                 0                   0              0   \n",
       "11427       0       0                 0                   0              0   \n",
       "11429       1       0                 1                   1              0   \n",
       "\n",
       "       longest_words_raw  phish_hints  suspecious_tld  dns_record  \\\n",
       "0                     11            0               0           1   \n",
       "1                     32            0               0           0   \n",
       "2                     17            0               0           0   \n",
       "3                      5            0               0           0   \n",
       "4                     11            0               0           0   \n",
       "...                  ...          ...             ...         ...   \n",
       "11423                 26            0               0           0   \n",
       "11424                  8            0               0           0   \n",
       "11426                 10            0               0           0   \n",
       "11427                 15            0               0           0   \n",
       "11429                 12            3               0           1   \n",
       "\n",
       "       longitud_url  ratio_digits_url  ratio_digits_domain  \n",
       "0                37          0.000000             0.000000  \n",
       "1                77          0.220779             0.000000  \n",
       "2               126          0.150794             0.000000  \n",
       "3                18          0.000000             0.000000  \n",
       "4                55          0.000000             0.000000  \n",
       "...             ...               ...                  ...  \n",
       "11423            85          0.047059             0.000000  \n",
       "11424            62          0.000000             0.000000  \n",
       "11426            84          0.023810             0.000000  \n",
       "11427           105          0.142857             0.000000  \n",
       "11429           477          0.085954             0.785714  \n",
       "\n",
       "[7132 rows x 12 columns]"
      ]
     },
     "execution_count": 60,
     "metadata": {},
     "output_type": "execute_result"
    }
   ],
   "source": [
    "# se eliminan los datos duplicados\n",
    "new_df.drop_duplicates()"
   ]
  },
  {
   "cell_type": "markdown",
   "id": "acecff74",
   "metadata": {},
   "source": [
    "## Implementación del modelo"
   ]
  },
  {
   "cell_type": "code",
   "execution_count": 62,
   "id": "26a69ad6",
   "metadata": {},
   "outputs": [],
   "source": [
    "import sklearn\n",
    "from sklearn import metrics, model_selection, tree"
   ]
  },
  {
   "cell_type": "markdown",
   "id": "3a6b5d7c",
   "metadata": {},
   "source": [
    "#### Separación de datos"
   ]
  },
  {
   "cell_type": "code",
   "execution_count": 63,
   "id": "5428b703",
   "metadata": {},
   "outputs": [
    {
     "name": "stdout",
     "output_type": "stream",
     "text": [
      "Final features: Index(['nb_com', 'tld_in_subdomain', 'abnormal_subdomain', 'prefix_suffix',\n",
      "       'longest_words_raw', 'phish_hints', 'suspecious_tld', 'dns_record',\n",
      "       'longitud_url', 'ratio_digits_url', 'ratio_digits_domain'],\n",
      "      dtype='object')\n"
     ]
    }
   ],
   "source": [
    "target = new_df['status']\n",
    "feature_matrix = new_df.drop(['status'], axis=1)\n",
    "\n",
    "print('Final features:', feature_matrix.columns)\n",
    "feature_matrix.head()\n",
    "\n",
    "feature_matrix_train, feature_matrix_test, target_train, target_test = model_selection.train_test_split(feature_matrix, target, test_size=0.30, train_size = 0.55, random_state=31)\n"
   ]
  },
  {
   "cell_type": "code",
   "execution_count": 71,
   "id": "ddc0ab7a",
   "metadata": {},
   "outputs": [],
   "source": [
    "target.to_csv(\"target_phishing.csv\")"
   ]
  },
  {
   "cell_type": "code",
   "execution_count": 72,
   "id": "b8642ecd",
   "metadata": {},
   "outputs": [],
   "source": [
    "feature_matrix.to_csv(\"feature_matrix_phishing.csv\")"
   ]
  },
  {
   "cell_type": "markdown",
   "id": "5d9bac94",
   "metadata": {},
   "source": [
    "#### Implementación"
   ]
  },
  {
   "cell_type": "code",
   "execution_count": 64,
   "id": "645eff4d",
   "metadata": {},
   "outputs": [],
   "source": [
    "clf = tree.DecisionTreeClassifier()\n",
    "clf = clf.fit(feature_matrix_train, target_train)"
   ]
  },
  {
   "cell_type": "code",
   "execution_count": 65,
   "id": "9e912e5c",
   "metadata": {},
   "outputs": [
    {
     "name": "stdout",
     "output_type": "stream",
     "text": [
      "nb_com                 6286\n",
      "tld_in_subdomain       6286\n",
      "abnormal_subdomain     6286\n",
      "prefix_suffix          6286\n",
      "longest_words_raw      6286\n",
      "phish_hints            6286\n",
      "suspecious_tld         6286\n",
      "dns_record             6286\n",
      "longitud_url           6286\n",
      "ratio_digits_url       6286\n",
      "ratio_digits_domain    6286\n",
      "dtype: int64\n"
     ]
    }
   ],
   "source": [
    "print(feature_matrix_train.count())"
   ]
  },
  {
   "cell_type": "code",
   "execution_count": 66,
   "id": "0fd859ae",
   "metadata": {},
   "outputs": [
    {
     "name": "stdout",
     "output_type": "stream",
     "text": [
      "nb_com                 3429\n",
      "tld_in_subdomain       3429\n",
      "abnormal_subdomain     3429\n",
      "prefix_suffix          3429\n",
      "longest_words_raw      3429\n",
      "phish_hints            3429\n",
      "suspecious_tld         3429\n",
      "dns_record             3429\n",
      "longitud_url           3429\n",
      "ratio_digits_url       3429\n",
      "ratio_digits_domain    3429\n",
      "dtype: int64\n"
     ]
    }
   ],
   "source": [
    "print(feature_matrix_test.count())"
   ]
  },
  {
   "cell_type": "code",
   "execution_count": 67,
   "id": "199bc377",
   "metadata": {},
   "outputs": [],
   "source": [
    "target_pred = clf.predict(feature_matrix_test)"
   ]
  },
  {
   "cell_type": "code",
   "execution_count": 70,
   "id": "cdc9aee0",
   "metadata": {},
   "outputs": [
    {
     "name": "stdout",
     "output_type": "stream",
     "text": [
      "0.7690288713910761\n",
      "Matriz de confusion /n [[1394  298]\n",
      " [ 494 1243]]\n",
      "              precision    recall  f1-score   support\n",
      "\n",
      "  legitimate       0.74      0.82      0.78      1692\n",
      "    phishing       0.81      0.72      0.76      1737\n",
      "\n",
      "    accuracy                           0.77      3429\n",
      "   macro avg       0.77      0.77      0.77      3429\n",
      "weighted avg       0.77      0.77      0.77      3429\n",
      "\n"
     ]
    }
   ],
   "source": [
    "print(metrics.accuracy_score(target_test, target_pred))\n",
    "print('Matriz de confusion', metrics.confusion_matrix(target_test, target_pred))\n",
    "print(metrics.classification_report(target_test, target_pred, target_names=['legitimate', 'phishing']))"
   ]
  },
  {
   "cell_type": "markdown",
   "id": "b968adac-a0dd-46a4-9f0a-311402920513",
   "metadata": {},
   "source": [
    "1. ¿Cuál es el impacto de clasificar un sitio legítimo como Pishing?\n",
    "Las personas perderían la confianza en ese sitio, dependiendo del giro de negocio del sitio podrían perder transacciones y dinero. Habría que hacer algún tipo de resarcimiento para que las personas puedan volver a confiar en el sitio. Si hubiese alguna legislación respecto al tema, afrontar las consecuencias legales."
   ]
  },
  {
   "cell_type": "markdown",
   "id": "7f4cac54-bd1f-40dc-96db-efe1c65213b2",
   "metadata": {},
   "source": [
    "2. ¿Cuál es el impacto de clasificar un sitio de Pishing como legítimo?\n",
    "Arriesgar a las personas que visiten el sitio a que su información sea expuesta (correo electrónico, contraseñas, tarjetas de crédito, etc.), genera un pérdida para las personas estafadas, además de la angustia psicológica que causa en las personas.\n",
    "También el negocio el cual está siendo suplantado está sufiendo una pérdida."
   ]
  },
  {
   "cell_type": "markdown",
   "id": "fdf95833-5408-4dbb-a3fc-b63f76293e33",
   "metadata": {},
   "source": [
    "3. En base a las respuestas anteriores, ¿Qué métrica elegiría para comparar modelos similares \n",
    "de clasificación de pishing? \n",
    "Elegiría la f1-score, para encontrar una combinación óptima de precision y recall, otorgando el mismo peso de ambas medidas, debido a que el impacto de clasificar erróneamente un sitio independientemente de la forma genera una pérdida considerable."
   ]
  },
  {
   "cell_type": "markdown",
   "id": "a835a6f5-5e6e-4d67-86fb-620220629743",
   "metadata": {},
   "source": [
    "4. ¿Es necesaria la intervención de una persona humana en la decisión final de clasificación?\n",
    "Finalmente un modelo va a cometer equivocaciones, no es posible lograr un 100% de asertividad. Pero una persona tampoco garantiza que todo el tiempo se va a obtener la predicción correcta, e incluir a una persona que tome la decisión final corre el riesgo de ser influenciable por factores externos."
   ]
  },
  {
   "cell_type": "code",
   "execution_count": null,
   "id": "b31d11d1-6d6c-4bc8-8fd0-7e21c8830143",
   "metadata": {},
   "outputs": [],
   "source": []
  }
 ],
 "metadata": {
  "kernelspec": {
   "display_name": "Python 3 (ipykernel)",
   "language": "python",
   "name": "python3"
  },
  "language_info": {
   "codemirror_mode": {
    "name": "ipython",
    "version": 3
   },
   "file_extension": ".py",
   "mimetype": "text/x-python",
   "name": "python",
   "nbconvert_exporter": "python",
   "pygments_lexer": "ipython3",
   "version": "3.9.10"
  }
 },
 "nbformat": 4,
 "nbformat_minor": 5
}
